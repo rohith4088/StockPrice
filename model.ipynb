{
 "cells": [
  {
   "cell_type": "code",
   "execution_count": 17,
   "metadata": {},
   "outputs": [],
   "source": [
    "#necessary imports \n",
    "import tensorflow as tf\n",
    "from tensorflow import keras\n",
    "import pandas as pd\n",
    "import numpy as np\n",
    "import matplotlib.pyplot as plt\n",
    "import yfinance as yf\n",
    "import sklearn"
   ]
  },
  {
   "cell_type": "code",
   "execution_count": 2,
   "metadata": {},
   "outputs": [
    {
     "name": "stderr",
     "output_type": "stream",
     "text": [
      "[*********************100%%**********************]  1 of 1 completed\n"
     ]
    },
    {
     "data": {
      "text/html": [
       "<div>\n",
       "<style scoped>\n",
       "    .dataframe tbody tr th:only-of-type {\n",
       "        vertical-align: middle;\n",
       "    }\n",
       "\n",
       "    .dataframe tbody tr th {\n",
       "        vertical-align: top;\n",
       "    }\n",
       "\n",
       "    .dataframe thead th {\n",
       "        text-align: right;\n",
       "    }\n",
       "</style>\n",
       "<table border=\"1\" class=\"dataframe\">\n",
       "  <thead>\n",
       "    <tr style=\"text-align: right;\">\n",
       "      <th></th>\n",
       "      <th>Open</th>\n",
       "      <th>High</th>\n",
       "      <th>Low</th>\n",
       "      <th>Close</th>\n",
       "      <th>Adj Close</th>\n",
       "      <th>Volume</th>\n",
       "    </tr>\n",
       "    <tr>\n",
       "      <th>Date</th>\n",
       "      <th></th>\n",
       "      <th></th>\n",
       "      <th></th>\n",
       "      <th></th>\n",
       "      <th></th>\n",
       "      <th></th>\n",
       "    </tr>\n",
       "  </thead>\n",
       "  <tbody>\n",
       "    <tr>\n",
       "      <th>2020-05-01</th>\n",
       "      <td>71.562500</td>\n",
       "      <td>74.750000</td>\n",
       "      <td>71.462502</td>\n",
       "      <td>72.267502</td>\n",
       "      <td>70.387001</td>\n",
       "      <td>240616800</td>\n",
       "    </tr>\n",
       "    <tr>\n",
       "      <th>2020-05-04</th>\n",
       "      <td>72.292503</td>\n",
       "      <td>73.422501</td>\n",
       "      <td>71.580002</td>\n",
       "      <td>73.290001</td>\n",
       "      <td>71.382889</td>\n",
       "      <td>133568000</td>\n",
       "    </tr>\n",
       "    <tr>\n",
       "      <th>2020-05-05</th>\n",
       "      <td>73.764999</td>\n",
       "      <td>75.250000</td>\n",
       "      <td>73.614998</td>\n",
       "      <td>74.389999</td>\n",
       "      <td>72.454269</td>\n",
       "      <td>147751200</td>\n",
       "    </tr>\n",
       "    <tr>\n",
       "      <th>2020-05-06</th>\n",
       "      <td>75.114998</td>\n",
       "      <td>75.809998</td>\n",
       "      <td>74.717499</td>\n",
       "      <td>75.157501</td>\n",
       "      <td>73.201805</td>\n",
       "      <td>142333600</td>\n",
       "    </tr>\n",
       "    <tr>\n",
       "      <th>2020-05-07</th>\n",
       "      <td>75.805000</td>\n",
       "      <td>76.292503</td>\n",
       "      <td>75.492500</td>\n",
       "      <td>75.934998</td>\n",
       "      <td>73.959068</td>\n",
       "      <td>115215200</td>\n",
       "    </tr>\n",
       "  </tbody>\n",
       "</table>\n",
       "</div>"
      ],
      "text/plain": [
       "                 Open       High        Low      Close  Adj Close     Volume\n",
       "Date                                                                        \n",
       "2020-05-01  71.562500  74.750000  71.462502  72.267502  70.387001  240616800\n",
       "2020-05-04  72.292503  73.422501  71.580002  73.290001  71.382889  133568000\n",
       "2020-05-05  73.764999  75.250000  73.614998  74.389999  72.454269  147751200\n",
       "2020-05-06  75.114998  75.809998  74.717499  75.157501  73.201805  142333600\n",
       "2020-05-07  75.805000  76.292503  75.492500  75.934998  73.959068  115215200"
      ]
     },
     "execution_count": 2,
     "metadata": {},
     "output_type": "execute_result"
    }
   ],
   "source": [
    "#print(tf.__version__)\n",
    "\n",
    "#the model will be trained on apples stock data\n",
    "\n",
    "apple_data = yf.download('AAPL',start='2020-05-01',end='2024-05-01')\n",
    "\n",
    "apple_data.head()"
   ]
  },
  {
   "cell_type": "code",
   "execution_count": 3,
   "metadata": {},
   "outputs": [
    {
     "data": {
      "text/plain": [
       "Index(['Open', 'High', 'Low', 'Close', 'Adj Close', 'Volume'], dtype='object')"
      ]
     },
     "execution_count": 3,
     "metadata": {},
     "output_type": "execute_result"
    }
   ],
   "source": [
    "apple_data.columns"
   ]
  },
  {
   "cell_type": "code",
   "execution_count": 5,
   "metadata": {},
   "outputs": [
    {
     "data": {
      "text/plain": [
       "Open         0\n",
       "High         0\n",
       "Low          0\n",
       "Close        0\n",
       "Adj Close    0\n",
       "Volume       0\n",
       "dtype: int64"
      ]
     },
     "execution_count": 5,
     "metadata": {},
     "output_type": "execute_result"
    }
   ],
   "source": [
    "apple_data.isin(['?']).sum()"
   ]
  },
  {
   "cell_type": "code",
   "execution_count": 14,
   "metadata": {},
   "outputs": [
    {
     "data": {
      "text/plain": [
       "Open         0\n",
       "High         0\n",
       "Low          0\n",
       "Close        0\n",
       "Adj Close    0\n",
       "Volume       0\n",
       "dtype: int64"
      ]
     },
     "execution_count": 14,
     "metadata": {},
     "output_type": "execute_result"
    }
   ],
   "source": [
    "apple_data.isin(['NaN']).sum()\n"
   ]
  },
  {
   "cell_type": "code",
   "execution_count": 12,
   "metadata": {},
   "outputs": [
    {
     "data": {
      "text/plain": [
       "<bound method DataFrame.duplicated of                   Open        High         Low       Close   Adj Close  \\\n",
       "Date                                                                     \n",
       "2020-05-01   71.562500   74.750000   71.462502   72.267502   70.387001   \n",
       "2020-05-04   72.292503   73.422501   71.580002   73.290001   71.382889   \n",
       "2020-05-05   73.764999   75.250000   73.614998   74.389999   72.454269   \n",
       "2020-05-06   75.114998   75.809998   74.717499   75.157501   73.201805   \n",
       "2020-05-07   75.805000   76.292503   75.492500   75.934998   73.959068   \n",
       "...                ...         ...         ...         ...         ...   \n",
       "2024-04-24  166.539993  169.300003  166.210007  169.020004  168.791061   \n",
       "2024-04-25  169.529999  170.610001  168.149994  169.889999  169.659882   \n",
       "2024-04-26  169.880005  171.339996  169.179993  169.300003  169.070679   \n",
       "2024-04-29  173.369995  176.029999  173.100006  173.500000  173.264984   \n",
       "2024-04-30  173.330002  174.990005  170.000000  170.330002  170.099289   \n",
       "\n",
       "               Volume  \n",
       "Date                   \n",
       "2020-05-01  240616800  \n",
       "2020-05-04  133568000  \n",
       "2020-05-05  147751200  \n",
       "2020-05-06  142333600  \n",
       "2020-05-07  115215200  \n",
       "...               ...  \n",
       "2024-04-24   48251800  \n",
       "2024-04-25   50558300  \n",
       "2024-04-26   44838400  \n",
       "2024-04-29   68169400  \n",
       "2024-04-30   65934800  \n",
       "\n",
       "[1006 rows x 6 columns]>"
      ]
     },
     "execution_count": 12,
     "metadata": {},
     "output_type": "execute_result"
    }
   ],
   "source": [
    "apple_data.duplicated"
   ]
  },
  {
   "cell_type": "code",
   "execution_count": 13,
   "metadata": {},
   "outputs": [
    {
     "data": {
      "text/plain": [
       "Open         0\n",
       "High         0\n",
       "Low          0\n",
       "Close        0\n",
       "Adj Close    0\n",
       "Volume       0\n",
       "dtype: int64"
      ]
     },
     "execution_count": 13,
     "metadata": {},
     "output_type": "execute_result"
    }
   ],
   "source": [
    "apple_data.isnull().sum()"
   ]
  },
  {
   "cell_type": "code",
   "execution_count": 16,
   "metadata": {},
   "outputs": [],
   "source": [
    "#filing the missing values (no missing values in this data)\n",
    "apple_data.fillna(apple_data.ffill(),inplace= True)\n"
   ]
  },
  {
   "cell_type": "code",
   "execution_count": 19,
   "metadata": {},
   "outputs": [],
   "source": [
    "from sklearn.preprocessing import MinMaxScaler\n",
    "scaler = MinMaxScaler()\n",
    "scaled_data = scaler.fit_transform(apple_data['Close'].values.reshape(-1,1))"
   ]
  },
  {
   "cell_type": "code",
   "execution_count": null,
   "metadata": {},
   "outputs": [],
   "source": []
  }
 ],
 "metadata": {
  "kernelspec": {
   "display_name": "Python 3",
   "language": "python",
   "name": "python3"
  },
  "language_info": {
   "codemirror_mode": {
    "name": "ipython",
    "version": 3
   },
   "file_extension": ".py",
   "mimetype": "text/x-python",
   "name": "python",
   "nbconvert_exporter": "python",
   "pygments_lexer": "ipython3",
   "version": "3.10.13"
  }
 },
 "nbformat": 4,
 "nbformat_minor": 2
}
